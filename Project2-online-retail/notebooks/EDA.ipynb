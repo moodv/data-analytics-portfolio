{
  "nbformat": 4,
  "nbformat_minor": 0,
  "metadata": {
    "colab": {
      "provenance": [],
      "authorship_tag": "ABX9TyNyyaIe1Ccto/p4op6W1jiS",
      "include_colab_link": true
    },
    "kernelspec": {
      "name": "python3",
      "display_name": "Python 3"
    },
    "language_info": {
      "name": "python"
    }
  },
  "cells": [
    {
      "cell_type": "markdown",
      "metadata": {
        "id": "view-in-github",
        "colab_type": "text"
      },
      "source": [
        "<a href=\"https://colab.research.google.com/github/moodv/data-analytics-portfolio/blob/main/Project2-online-retail/notebooks/EDA.ipynb\" target=\"_parent\"><img src=\"https://colab.research.google.com/assets/colab-badge.svg\" alt=\"Open In Colab\"/></a>"
      ]
    },
    {
      "cell_type": "code",
      "execution_count": 1,
      "metadata": {
        "id": "SNeI54ZzifmF",
        "colab": {
          "base_uri": "https://localhost:8080/"
        },
        "outputId": "d52fe29c-552f-44cd-9394-25067cdadb60"
      },
      "outputs": [
        {
          "output_type": "stream",
          "name": "stdout",
          "text": [
            "<class 'pandas.core.frame.DataFrame'>\n",
            "RangeIndex: 541909 entries, 0 to 541908\n",
            "Data columns (total 8 columns):\n",
            " #   Column       Non-Null Count   Dtype         \n",
            "---  ------       --------------   -----         \n",
            " 0   InvoiceNo    541909 non-null  object        \n",
            " 1   StockCode    541909 non-null  object        \n",
            " 2   Description  540455 non-null  object        \n",
            " 3   Quantity     541909 non-null  int64         \n",
            " 4   InvoiceDate  541909 non-null  datetime64[ns]\n",
            " 5   UnitPrice    541909 non-null  float64       \n",
            " 6   CustomerID   406829 non-null  float64       \n",
            " 7   Country      541909 non-null  object        \n",
            "dtypes: datetime64[ns](1), float64(2), int64(1), object(4)\n",
            "memory usage: 33.1+ MB\n"
          ]
        }
      ],
      "source": [
        "import pandas as pd\n",
        "\n",
        "\n",
        "df = pd.read_excel('OnlineRetail.xlsx')\n",
        "df.info()"
      ]
    },
    {
      "cell_type": "code",
      "source": [
        "df.describe(include=\"all\")\n",
        "nulls= df.isnull().sum()\n",
        "duplicate = df.duplicated().sum()\n",
        "\n",
        "print(f\"Nulls: {nulls}\")\n",
        "print(f\"Duplicates: {duplicate}\")\n"
      ],
      "metadata": {
        "colab": {
          "base_uri": "https://localhost:8080/"
        },
        "id": "9tSnBaAZjTEF",
        "outputId": "69b84b47-ff50-43e9-9ff7-bfc96d703baf"
      },
      "execution_count": 11,
      "outputs": [
        {
          "output_type": "stream",
          "name": "stdout",
          "text": [
            "Nulls: InvoiceNo           0\n",
            "StockCode           0\n",
            "Description         0\n",
            "Quantity            0\n",
            "InvoiceDate         0\n",
            "UnitPrice           0\n",
            "CustomerID     133582\n",
            "Country             0\n",
            "TotalPrice          0\n",
            "Year                0\n",
            "Month               0\n",
            "Day                 0\n",
            "Weekday             0\n",
            "Time                0\n",
            "Hour                0\n",
            "dtype: int64\n",
            "Duplicates: 0\n"
          ]
        }
      ]
    },
    {
      "cell_type": "code",
      "source": [
        "# 1. Standardize text columns\n",
        "df['Description'] = df['Description'].str.lower()\n",
        "df['Country'] = df['Country'].str.lower()\n",
        "\n",
        "# 2. Drop nulls in Description\n",
        "df = df.dropna(subset=['Description'])\n",
        "\n",
        "# 3. Drop exact duplicate rows\n",
        "df = df.drop_duplicates()\n",
        "\n",
        "# 4. Add TotalPrice\n",
        "df['TotalPrice'] = df['Quantity'] * df['UnitPrice']\n",
        "\n",
        "# 5. Ensure InvoiceDate is datetime\n",
        "df['InvoiceDate'] = pd.to_datetime(df['InvoiceDate'], errors='coerce')\n",
        "\n",
        "# 6. Extract date features\n",
        "df['Year'] = df['InvoiceDate'].dt.year\n",
        "df['Month'] = df['InvoiceDate'].dt.month\n",
        "df['Day'] = df['InvoiceDate'].dt.day\n",
        "df['Weekday'] = df['InvoiceDate'].dt.day_name()\n",
        "df['Time'] = df['InvoiceDate'].dt.time\n",
        "df['Hour'] = df['InvoiceDate'].dt.hour\n",
        "\n",
        "\n"
      ],
      "metadata": {
        "id": "jjjiNYjRlsum"
      },
      "execution_count": 3,
      "outputs": []
    },
    {
      "cell_type": "code",
      "source": [
        "df.info()\n",
        "df.head()\n",
        "print(f\"Nulls: {nulls}\")\n",
        "print(f\"Duplicates: {duplicate}\")"
      ],
      "metadata": {
        "id": "OJE7PC4_veAJ",
        "outputId": "ddc51307-4531-4292-99a5-8474b23bf8e7",
        "colab": {
          "base_uri": "https://localhost:8080/"
        }
      },
      "execution_count": 12,
      "outputs": [
        {
          "output_type": "stream",
          "name": "stdout",
          "text": [
            "<class 'pandas.core.frame.DataFrame'>\n",
            "Index: 535186 entries, 0 to 541908\n",
            "Data columns (total 15 columns):\n",
            " #   Column       Non-Null Count   Dtype         \n",
            "---  ------       --------------   -----         \n",
            " 0   InvoiceNo    535186 non-null  object        \n",
            " 1   StockCode    535186 non-null  object        \n",
            " 2   Description  535186 non-null  object        \n",
            " 3   Quantity     535186 non-null  int64         \n",
            " 4   InvoiceDate  535186 non-null  datetime64[ns]\n",
            " 5   UnitPrice    535186 non-null  float64       \n",
            " 6   CustomerID   401604 non-null  float64       \n",
            " 7   Country      535186 non-null  object        \n",
            " 8   TotalPrice   535186 non-null  float64       \n",
            " 9   Year         535186 non-null  int32         \n",
            " 10  Month        535186 non-null  int32         \n",
            " 11  Day          535186 non-null  int32         \n",
            " 12  Weekday      535186 non-null  object        \n",
            " 13  Time         535186 non-null  object        \n",
            " 14  Hour         535186 non-null  int32         \n",
            "dtypes: datetime64[ns](1), float64(3), int32(4), int64(1), object(6)\n",
            "memory usage: 57.2+ MB\n",
            "Nulls: InvoiceNo           0\n",
            "StockCode           0\n",
            "Description         0\n",
            "Quantity            0\n",
            "InvoiceDate         0\n",
            "UnitPrice           0\n",
            "CustomerID     133582\n",
            "Country             0\n",
            "TotalPrice          0\n",
            "Year                0\n",
            "Month               0\n",
            "Day                 0\n",
            "Weekday             0\n",
            "Time                0\n",
            "Hour                0\n",
            "dtype: int64\n",
            "Duplicates: 0\n"
          ]
        }
      ]
    },
    {
      "cell_type": "code",
      "source": [],
      "metadata": {
        "id": "5oSaM9vl0D7N"
      },
      "execution_count": null,
      "outputs": []
    },
    {
      "cell_type": "code",
      "source": [],
      "metadata": {
        "id": "4UKsmvs30ECv"
      },
      "execution_count": null,
      "outputs": []
    },
    {
      "cell_type": "code",
      "source": [],
      "metadata": {
        "id": "g3Es0Vsp0EHO"
      },
      "execution_count": null,
      "outputs": []
    }
  ]
}